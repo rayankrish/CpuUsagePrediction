{
 "cells": [
  {
   "cell_type": "code",
   "execution_count": 1,
   "metadata": {},
   "outputs": [],
   "source": [
    "import pandas as pd\n",
    "import numpy as np\n",
    "from matplotlib.pyplot import figure\n",
    "import matplotlib.pyplot as plt"
   ]
  },
  {
   "cell_type": "code",
   "execution_count": 2,
   "metadata": {},
   "outputs": [],
   "source": [
    "#path = \"lstm-out/NO-SCALE-1-5-100-120-60-30-0.01-1.csv\"\n",
    "def readFile(path):\n",
    "    df = pd.read_csv(\"lstm-out/\"+path, delimiter=',', index_col=0, parse_dates=True)\n",
    "    return df"
   ]
  },
  {
   "cell_type": "code",
   "execution_count": 59,
   "metadata": {},
   "outputs": [],
   "source": [
    "def getMean(df, m=\"MAE\"):\n",
    "    #print(df[m])\n",
    "    print(df[m].mean())\n",
    "    \n",
    "def getMeanNaive(df, m=\"NAIVE_MAPE\"):\n",
    "    columns = ['MAE', 'RMSE', 'MAPE', 'MEAN_MAE', 'MEAN_RMSE', 'MEAN_MAPE', 'NAIVE_MAE', 'NAIVE_RMSE', 'NAIVE_MAE']\n",
    "    df = df.set_axis(['MAE', 'RMSE', 'MAPE', 'MEAN_MAE', 'MEAN_RMSE', 'MEAN_MAPE', 'NAIVE_MAE', 'NAIVE_RMSE', 'NAIVE_MAPE'], axis=1, inplace=False)\n",
    "    print(df[m].mean())\n",
    "    "
   ]
  },
  {
   "cell_type": "code",
   "execution_count": 163,
   "metadata": {},
   "outputs": [],
   "source": [
    "def graph(df):\n",
    "    columns = ['MAE', 'RMSE', 'MAPE', 'MEAN_MAE', 'MEAN_RMSE', 'MEAN_MAPE', 'NAIVE_MAE', 'NAIVE_RMSE', 'NAIVE_MAE']\n",
    "    df = df.set_axis(['MAE', 'RMSE', 'MAPE', 'MEAN_MAE', 'MEAN_RMSE', 'MEAN_MAPE', 'NAIVE_MAE', 'NAIVE_RMSE', 'NAIVE_MAPE'], axis=1, inplace=False)\n",
    "    #print(df)\n",
    "    figure(num=None, figsize=(16, 6), dpi=80, facecolor='w', edgecolor='k')\n",
    "    X = np.arange(50)\n",
    "    X = X[::-1]\n",
    "\n",
    "    states = list(df.index) \n",
    "    #plt.bar(X, df.iloc[:, 0], color='blue', width = 0.25, tick_label=states)\n",
    "    #plt.bar(X+0.25, df.iloc[:, 4], color='red', width = 0.25, tick_label=states)\n",
    "    handle1 = plt.bar(X, df['MAPE'], color='blue', width = 0.25, tick_label=states, label=\"LSTM\")\n",
    "    #plt.bar(X+0.5, df['NAIVE_MAE'], color='green', width = 0.25, tick_label=states)\n",
    "    handle2 = plt.bar(X+0.25, df['MEAN_MAPE'], color='red', width = 0.25, tick_label=states, label=\"Naive Mean\")\n",
    "    plt.legend(handles = [handle1, handle2])\n",
    "    plt.ylabel(\"Mean Absolute Error\")\n",
    "    plt.xlabel(\"Time Series\")\n",
    "    plt.savefig(\"lstm-out/concur_perf\", dpi=200, bbox_inches='tight')\n",
    "\n",
    "    plt.show()"
   ]
  },
  {
   "cell_type": "code",
   "execution_count": 172,
   "metadata": {},
   "outputs": [],
   "source": [
    "def arima_graph(df):\n",
    "    figure(num=None, figsize=(16, 6), dpi=80, facecolor='w', edgecolor='k')\n",
    "    X = np.arange(50)\n",
    "    X = X[::-1]\n",
    "\n",
    "    states = list(df.index) \n",
    "    #plt.bar(X, df.iloc[:, 0], color='blue', width = 0.25, tick_label=states)\n",
    "    #plt.bar(X+0.25, df.iloc[:, 4], color='red', width = 0.25, tick_label=states)\n",
    "    handle1 = plt.bar(X, df['3pt MAE'], color='blue', width = 0.25, tick_label=states, label=\"ARIMA\")\n",
    "    #plt.bar(X+0.5, df['NAIVE_MAE'], color='green', width = 0.25, tick_label=states)\n",
    "    handle2 = plt.bar(X+0.25, df['3pt MEAN MAE'], color='red', width = 0.25, tick_label=states, label=\"Naive Mean\")\n",
    "    plt.legend(handles = [handle1, handle2])\n",
    "    plt.ylabel(\"Mean Absolute Error\")\n",
    "    plt.xlabel(\"Time Series\")\n",
    "    plt.savefig(\"lstm-out/arima_short\", dpi=200, bbox_inches='tight')\n",
    "\n",
    "    plt.show()"
   ]
  },
  {
   "cell_type": "code",
   "execution_count": 60,
   "metadata": {},
   "outputs": [
    {
     "name": "stdout",
     "output_type": "stream",
     "text": [
      "0 dropout\n",
      "4.298370980247335\n",
      "3.6014706240337695\n",
      "3.4827134789636953\n",
      "3.503821593667475\n",
      "0.5 dropout\n",
      "4.135488849254573\n",
      "3.543675341855778\n",
      "3.4994457377253614\n",
      "3.4815771798092636\n",
      "1 dropout\n",
      "4.333278150055787\n",
      "3.552305426568229\n",
      "3.495370882001099\n",
      "3.4967572616165516\n",
      "naive errors\n",
      "16.747641391013374\n",
      "16.776559536252197\n",
      "0.9026623904314729\n",
      "0.9370662754748225\n"
     ]
    }
   ],
   "source": [
    "print(\"0 dropout\")\n",
    "paths = []\n",
    "# number of hidden parameters\n",
    "paths.append(\"1-2-100-6-3-30-0.01-0.csv\")\n",
    "paths.append(\"1-5-100-6-3-30-0.01-0.csv\")\n",
    "paths.append(\"1-10-100-6-3-30-0.01-0.csv\")\n",
    "paths.append(\"1-20-100-6-3-30-0.01-0.csv\")\n",
    "\n",
    "for path in paths:\n",
    "    df = readFile(path)\n",
    "    getMean(df)\n",
    "\n",
    "print(\"0.5 dropout\")\n",
    "paths = []\n",
    "# number of hidden parameters\n",
    "paths.append(\"1-2-100-6-3-30-0.01-0.5.csv\")\n",
    "paths.append(\"1-5-100-6-3-30-0.01-0.5.csv\")\n",
    "paths.append(\"1-10-100-6-3-30-0.01-0.5.csv\")\n",
    "paths.append(\"1-20-100-6-3-30-0.01-0.5.csv\")\n",
    "\n",
    "for path in paths:\n",
    "    df = readFile(path)\n",
    "    getMean(df)\n",
    "    \n",
    "print(\"1 dropout\")\n",
    "paths = []\n",
    "# number of hidden parameters\n",
    "paths.append(\"1-2-100-6-3-30-0.01-1.csv\")\n",
    "paths.append(\"1-5-100-6-3-30-0.01-1.csv\")\n",
    "paths.append(\"1-10-100-6-3-30-0.01-1.csv\")\n",
    "paths.append(\"1-20-100-6-3-30-0.01-1.csv\")\n",
    "\n",
    "for path in paths:\n",
    "    df = readFile(path)\n",
    "    getMean(df)\n",
    "    \n",
    "#graph(readFile(paths[0]))\n",
    "#getMeanNaive(readFile(paths[0]))\n",
    "print(\"naive errors\")\n",
    "getMeanNaive(readFile(paths[0]), \"NAIVE_MAE\")\n",
    "getMeanNaive(readFile(paths[0]), \"MEAN_MAE\")\n",
    "getMeanNaive(readFile(paths[0]), \"NAIVE_MAPE\")\n",
    "getMeanNaive(readFile(paths[0]), \"MEAN_MAPE\")\n",
    "# performance is best with 5-10 hidden parameters and lower drop out"
   ]
  },
  {
   "cell_type": "code",
   "execution_count": 61,
   "metadata": {},
   "outputs": [
    {
     "name": "stdout",
     "output_type": "stream",
     "text": [
      "0 dropout\n",
      "4.608110191116682\n",
      "3.6469025541666547\n",
      "3.4768592374882705\n",
      "3.450118531609922\n",
      "0.5 dropout\n",
      "5.253860691902162\n",
      "3.853761327669385\n",
      "3.6318326877341316\n",
      "3.6928452403052163\n",
      "1 dropout\n",
      "11.050875113630616\n",
      "11.035655229410313\n",
      "11.123989696525506\n",
      "11.060788659632301\n"
     ]
    }
   ],
   "source": [
    "# Same but 2 layers\n",
    "print(\"0 dropout\")\n",
    "paths = []\n",
    "# number of hidden parameters\n",
    "paths.append(\"2-2-100-6-3-30-0.01-0.csv\")\n",
    "paths.append(\"2-5-100-6-3-30-0.01-0.csv\")\n",
    "paths.append(\"2-10-100-6-3-30-0.01-0.csv\")\n",
    "paths.append(\"2-20-100-6-3-30-0.01-0.csv\")\n",
    "\n",
    "for path in paths:\n",
    "    df = readFile(path)\n",
    "    getMean(df)\n",
    "\n",
    "print(\"0.5 dropout\")\n",
    "paths = []\n",
    "# number of hidden parameters\n",
    "paths.append(\"2-2-100-6-3-30-0.01-0.5.csv\")\n",
    "paths.append(\"2-5-100-6-3-30-0.01-0.5.csv\")\n",
    "paths.append(\"2-10-100-6-3-30-0.01-0.5.csv\")\n",
    "paths.append(\"2-20-100-6-3-30-0.01-0.5.csv\")\n",
    "\n",
    "for path in paths:\n",
    "    df = readFile(path)\n",
    "    getMean(df)\n",
    "    \n",
    "print(\"1 dropout\")\n",
    "paths = []\n",
    "# number of hidden parameters\n",
    "paths.append(\"2-2-100-6-3-30-0.01-1.csv\")\n",
    "paths.append(\"2-5-100-6-3-30-0.01-1.csv\")\n",
    "paths.append(\"2-10-100-6-3-30-0.01-1.csv\")\n",
    "paths.append(\"2-20-100-6-3-30-0.01-1.csv\")\n",
    "\n",
    "for path in paths:\n",
    "    df = readFile(path)\n",
    "    getMean(df)\n",
    "    \n",
    "#graph(readFile(paths[0]))\n",
    "\n",
    "# performance is best with 5-10 hidden parameters and lower drop out"
   ]
  },
  {
   "cell_type": "code",
   "execution_count": 63,
   "metadata": {},
   "outputs": [
    {
     "name": "stdout",
     "output_type": "stream",
     "text": [
      "0 dropout\n",
      "6.362222937212054\n",
      "3.7338905942370957\n",
      "3.63152434640155\n",
      "3.584895649880234\n",
      "0.5 dropout\n",
      "6.833871854175323\n",
      "4.099741614601321\n",
      "3.8222641841121043\n",
      "3.696953729904467\n",
      "1 dropout\n",
      "11.056231356922174\n",
      "11.1669083372883\n",
      "11.08291939910325\n",
      "11.067943990858065\n"
     ]
    }
   ],
   "source": [
    "# Same but 3 layers\n",
    "print(\"0 dropout\")\n",
    "paths = []\n",
    "# number of hidden parameters\n",
    "paths.append(\"3-2-100-6-3-30-0.01-0.csv\")\n",
    "paths.append(\"3-5-100-6-3-30-0.01-0.csv\")\n",
    "paths.append(\"3-10-100-6-3-30-0.01-0.csv\")\n",
    "paths.append(\"3-20-100-6-3-30-0.01-0.csv\")\n",
    "\n",
    "for path in paths:\n",
    "    df = readFile(path)\n",
    "    getMean(df)\n",
    "\n",
    "print(\"0.5 dropout\")\n",
    "paths = []\n",
    "# number of hidden parameters\n",
    "paths.append(\"3-2-100-6-3-30-0.01-0.5.csv\")\n",
    "paths.append(\"3-5-100-6-3-30-0.01-0.5.csv\")\n",
    "paths.append(\"3-10-100-6-3-30-0.01-0.5.csv\")\n",
    "paths.append(\"3-20-100-6-3-30-0.01-0.5.csv\")\n",
    "\n",
    "for path in paths:\n",
    "    df = readFile(path)\n",
    "    getMean(df)\n",
    "    \n",
    "print(\"1 dropout\")\n",
    "paths = []\n",
    "# number of hidden parameters\n",
    "paths.append(\"3-2-100-6-3-30-0.01-1.csv\")\n",
    "paths.append(\"3-5-100-6-3-30-0.01-1.csv\")\n",
    "paths.append(\"3-10-100-6-3-30-0.01-1.csv\")\n",
    "paths.append(\"3-20-100-6-3-30-0.01-1.csv\")\n",
    "\n",
    "for path in paths:\n",
    "    df = readFile(path)\n",
    "    getMean(df)\n",
    "    \n",
    "#graph(readFile(paths[0]))\n",
    "\n",
    "# performance is best with 5-10 hidden parameters and lower drop out"
   ]
  },
  {
   "cell_type": "code",
   "execution_count": 179,
   "metadata": {},
   "outputs": [
    {
     "name": "stdout",
     "output_type": "stream",
     "text": [
      "1 layer\n",
      "11.707901753223203\n",
      "11.094179024933958\n",
      "10.848624087604676\n",
      "10.907888719614935\n",
      "2 layers\n",
      "11.816644308605884\n",
      "11.060142354802803\n",
      "10.817485659856372\n",
      "11.123639579348753\n",
      "3 layers\n",
      "11.561774247263747\n",
      "11.498964251169003\n",
      "11.25136782861082\n",
      "11.05480728485285\n"
     ]
    }
   ],
   "source": [
    "# Long Term Analysis\n",
    "print(\"1 layer\")\n",
    "paths = []\n",
    "paths.append(\"1-5-100-432-216-30-0.01-0.csv\")\n",
    "paths.append(\"1-10-100-432-216-30-0.01-0.csv\")\n",
    "paths.append(\"1-20-100-432-216-30-0.01-0.csv\")\n",
    "paths.append(\"1-30-100-432-216-30-0.01-0.csv\")\n",
    "\n",
    "for path in paths:\n",
    "    df = readFile(path)\n",
    "    getMean(df)\n",
    "\n",
    "print(\"2 layers\")\n",
    "paths = []\n",
    "paths.append(\"2-5-100-432-216-30-0.01-0.csv\")\n",
    "paths.append(\"2-10-100-432-216-30-0.01-0.csv\")\n",
    "paths.append(\"2-20-100-432-216-30-0.01-0.csv\")\n",
    "paths.append(\"2-30-100-432-216-30-0.01-0.csv\")\n",
    "\n",
    "for path in paths:\n",
    "    df = readFile(path)\n",
    "    getMean(df)\n",
    "    \n",
    "print(\"3 layers\")\n",
    "paths = []\n",
    "paths.append(\"3-5-100-432-216-30-0.01-0.csv\")\n",
    "paths.append(\"3-10-100-432-216-30-0.01-0.csv\")\n",
    "paths.append(\"3-20-100-432-216-30-0.01-0.csv\")\n",
    "paths.append(\"3-30-100-432-216-30-0.01-0.csv\")\n",
    "\n",
    "\n",
    "for path in paths:\n",
    "    df = readFile(path)\n",
    "    getMean(df)\n",
    "    \n",
    "#graph(readFile(paths[0]))\n",
    "\n",
    "# performance is best with 5-10 hidden parameters and lower drop out"
   ]
  },
  {
   "cell_type": "code",
   "execution_count": null,
   "metadata": {},
   "outputs": [],
   "source": [
    "# no resample\n",
    "paths = []\n",
    "paths.append(\"NO-SCALE-1-5-100-120-60-30-0.01-1.csv\")\n",
    "paths.append(\"NO-SCALE-1-10-100-120-60-30-0.01-1.csv\")\n",
    "paths.append(\"NO-SCALE-1-20-100-120-60-30-0.01-1.csv\")\n",
    "paths.append(\"NO-SCALE-2-5-100-120-60-30-0.01-1.csv\")\n",
    "\n",
    "for path in paths:\n",
    "    df = readFile(path)\n",
    "    getMean(df)\n",
    "    \n",
    "print(\"naive perf\")\n",
    "for path in paths:\n",
    "    df = readFile(path)\n",
    "    getMeanNaive(df)"
   ]
  },
  {
   "cell_type": "code",
   "execution_count": 178,
   "metadata": {
    "scrolled": true
   },
   "outputs": [
    {
     "name": "stdout",
     "output_type": "stream",
     "text": [
      "10.611669625162085\n",
      "None\n",
      "0\n",
      "10.611669625162085\n",
      "1.784377328956223\n"
     ]
    }
   ],
   "source": [
    "#df = readFile(\"3-20-100-532-216-40-0.01-0.1.csv\")\n",
    "#df = readFile(\"trash/NO-SCALE-1-10-100-120-60-30-0.01-1.csv\")\n",
    "df = readFile(\"concur-2-10-100-6-3-50-0.01-0.5.csv\")\n",
    "#df = readFile(\"4-20-100-6-3-30-0.01-0.csv\")\n",
    "#df = readFile(\"2-20-100-6-3-30-0.01-0.csv\")\n",
    "#print(df)\n",
    "#graph(df)\n",
    "#print(df)\n",
    "print(getMean(df, m=\"MAE\"))\n",
    "\n",
    "print(count)\n",
    "print(df['MAE'].mean())\n",
    "print(df['MAPE'].mean())"
   ]
  },
  {
   "cell_type": "code",
   "execution_count": 173,
   "metadata": {},
   "outputs": [
    {
     "name": "stdout",
     "output_type": "stream",
     "text": [
      "5.3790731785813675\n",
      "6.536975833333335\n",
      "8.641332964665912\n",
      "12.512775013704818\n"
     ]
    },
    {
     "data": {
      "image/png": "[encoded data removed]",
      "text/plain": [
       "<Figure size 1280x480 with 1 Axes>"
      ]
     },
     "metadata": {},
     "output_type": "display_data"
    }
   ],
   "source": [
    "# arima analysis\n",
    "df = pd.read_csv(\"arima_results.csv\", delimiter=',', index_col=0, parse_dates=True)\n",
    "\n",
    "#print(df)\n",
    "print(df['3pt MAE'].mean())\n",
    "print(df['3pt NAIVE MAE'].mean())\n",
    "print(df['MAE'].mean())\n",
    "print(df['NAIVE_MAE'].mean())\n",
    "arima_graph(df)"
   ]
  },
  {
   "cell_type": "code",
   "execution_count": null,
   "metadata": {},
   "outputs": [],
   "source": []
  }
 ],
 "metadata": {
  "kernelspec": {
   "display_name": "Python 3",
   "language": "python",
   "name": "python3"
  },
  "language_info": {
   "codemirror_mode": {
    "name": "ipython",
    "version": 3
   },
   "file_extension": ".py",
   "mimetype": "text/x-python",
   "name": "python",
   "nbconvert_exporter": "python",
   "pygments_lexer": "ipython3",
   "version": "3.8.2"
  }
 },
 "nbformat": 4,
 "nbformat_minor": 4
}
